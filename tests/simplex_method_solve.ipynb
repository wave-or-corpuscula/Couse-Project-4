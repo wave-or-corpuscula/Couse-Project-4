{
 "cells": [
  {
   "cell_type": "code",
   "execution_count": 4,
   "metadata": {},
   "outputs": [],
   "source": [
    "import numpy as np\n",
    "import scipy as sp\n",
    "from scipy.optimize import linprog"
   ]
  },
  {
   "cell_type": "code",
   "execution_count": 12,
   "metadata": {},
   "outputs": [
    {
     "name": "stdout",
     "output_type": "stream",
     "text": [
      "        message: Optimization terminated successfully. (HiGHS Status 7: Optimal)\n",
      "        success: True\n",
      "         status: 0\n",
      "            fun: -140.0\n",
      "              x: [ 4.000e+01  2.000e+01]\n",
      "            nit: 1\n",
      "          lower:  residual: [ 4.000e+01  2.000e+01]\n",
      "                 marginals: [ 0.000e+00  0.000e+00]\n",
      "          upper:  residual: [       inf        inf]\n",
      "                 marginals: [ 0.000e+00  0.000e+00]\n",
      "          eqlin:  residual: []\n",
      "                 marginals: []\n",
      "        ineqlin:  residual: [ 0.000e+00  1.000e+01  0.000e+00  0.000e+00]\n",
      "                 marginals: [-5.000e-01 -0.000e+00 -0.000e+00 -1.500e+00]\n",
      " mip_node_count: 0\n",
      " mip_dual_bound: 0.0\n",
      "        mip_gap: 0.0\n"
     ]
    }
   ],
   "source": [
    "x1 = (0, None)\n",
    "x2 = (0, None)\n",
    "\n",
    "c = [-2, -3]\n",
    "A = [[1, 0], [0, 1], [1, 1], [1, 2]]\n",
    "b = [40, 30, 60, 80]\n",
    "\n",
    "res = linprog(c, A_ub=A, b_ub=b, bounds=(x1, x2), method=\"highs\", options={\"disp\": True})\n",
    "print(res)"
   ]
  }
 ],
 "metadata": {
  "kernelspec": {
   "display_name": "Python 3",
   "language": "python",
   "name": "python3"
  },
  "language_info": {
   "codemirror_mode": {
    "name": "ipython",
    "version": 3
   },
   "file_extension": ".py",
   "mimetype": "text/x-python",
   "name": "python",
   "nbconvert_exporter": "python",
   "pygments_lexer": "ipython3",
   "version": "3.11.6"
  }
 },
 "nbformat": 4,
 "nbformat_minor": 2
}
